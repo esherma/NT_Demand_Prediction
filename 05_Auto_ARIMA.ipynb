{
 "cells": [
  {
   "cell_type": "code",
   "execution_count": 1,
   "id": "cc05d4d1-3a06-4c96-b083-8979d677ab96",
   "metadata": {},
   "outputs": [],
   "source": [
    "import pandas as pd\n",
    "import matplotlib.pyplot as plt\n",
    "import numpy as np\n",
    "import statsmodels.api as sm\n",
    "from sklearn.preprocessing import MinMaxScaler\n",
    "import pmdarima as pm"
   ]
  },
  {
   "cell_type": "markdown",
   "id": "8926297b-2b6a-49d3-bfd5-b3ee367c3f12",
   "metadata": {},
   "source": [
    "## Load data and separate train from test-phase"
   ]
  },
  {
   "cell_type": "markdown",
   "id": "c6096035-df11-4130-84d5-41459d271e74",
   "metadata": {},
   "source": [
    "There are cases where load and temp data are missing due to a blackout (see Known_Artifacts.md for an inexhaustive list)\n",
    "\n",
    "We need to impute the temperature data to use it for training ARIMA-type models. We did NOT need this for the univariate model since complete data is only assumed for covariate (not the outcome)."
   ]
  },
  {
   "cell_type": "code",
   "execution_count": 2,
   "id": "d5c858c5-d3a6-462e-bbce-8399f07ed463",
   "metadata": {},
   "outputs": [],
   "source": [
    "base_data = pd.read_csv('data.csv', index_col=0)\n",
    "base_data.index = pd.to_datetime(base_data.index)\n",
    "base_data = base_data.asfreq('H')\n",
    "\n",
    "imputed_data = base_data.copy()\n",
    "for idx, row in imputed_data.iterrows():\n",
    "    if np.isnan(row.tmp_f_KDFW):\n",
    "        imputed_data.loc[idx].tmp_f_KDFW = base_data[\n",
    "                                                    (base_data.index.month == idx.month) & \n",
    "                                                    (base_data.index.day == idx.day) & \n",
    "                                                    (base_data.index.hour == idx.hour)\n",
    "                                                ].tmp_f_KDFW.mean()"
   ]
  },
  {
   "cell_type": "code",
   "execution_count": 3,
   "id": "72a10668-e176-4948-a26f-bdef06b28648",
   "metadata": {},
   "outputs": [],
   "source": [
    "train_data = imputed_data[imputed_data.index < '2021-07-01']\n",
    "train_data = train_data.asfreq('H')\n",
    "target_data = imputed_data[imputed_data.index >= '2021-07-01']\n",
    "target_data = target_data.asfreq('H')"
   ]
  },
  {
   "cell_type": "code",
   "execution_count": 4,
   "id": "0d7e6e2a-3baa-49e4-98cf-97f53caea33d",
   "metadata": {},
   "outputs": [],
   "source": [
    "scaler = MinMaxScaler()\n",
    "train_data[['tmp_f_KDFW', 'north_load']] = scaler.fit_transform(train_data[['tmp_f_KDFW', 'north_load']])"
   ]
  },
  {
   "cell_type": "code",
   "execution_count": 5,
   "id": "ee3d124f-97a0-452f-b994-d11ebe88fda0",
   "metadata": {
    "tags": []
   },
   "outputs": [],
   "source": [
    "train_data.fillna(0, inplace=True)"
   ]
  },
  {
   "cell_type": "code",
   "execution_count": null,
   "id": "badc17c3-4183-4ceb-b90c-6a3fc3b1ff2d",
   "metadata": {},
   "outputs": [
    {
     "name": "stdout",
     "output_type": "stream",
     "text": [
      "Performing stepwise search to minimize aic\n",
      " ARIMA(3,1,3)(1,0,1)[4] intercept   : AIC=-177375.316, Time=100.92 sec\n",
      "First viable model found (-177375.316)\n",
      " ARIMA(0,1,0)(0,0,0)[4] intercept   : AIC=-147274.139, Time=10.04 sec\n",
      " ARIMA(1,1,0)(1,0,0)[4] intercept   : AIC=-168937.815, Time=33.31 sec\n",
      " ARIMA(0,1,1)(0,0,1)[4] intercept   : AIC=-160932.262, Time=36.00 sec\n",
      " ARIMA(0,1,0)(0,0,0)[4]             : AIC=-147276.138, Time=11.34 sec\n",
      " ARIMA(3,1,3)(0,0,1)[4] intercept   : AIC=-177647.550, Time=101.99 sec\n",
      "New best model found (-177647.550 < -177375.316)\n",
      " ARIMA(3,1,3)(0,0,0)[4] intercept   : AIC=-177359.403, Time=61.21 sec\n",
      " ARIMA(3,1,3)(0,0,2)[4] intercept   : AIC=-177521.351, Time=144.95 sec\n",
      " ARIMA(3,1,3)(1,0,0)[4] intercept   : AIC=-177366.734, Time=95.42 sec\n",
      " ARIMA(3,1,3)(1,0,2)[4] intercept   : AIC=-168585.736, Time=99.50 sec\n",
      " ARIMA(2,1,3)(0,0,1)[4] intercept   : AIC=-173770.127, Time=83.07 sec\n",
      " ARIMA(3,1,2)(0,0,1)[4] intercept   : AIC=-169769.446, Time=80.09 sec\n",
      " ARIMA(2,1,2)(0,0,1)[4] intercept   : AIC=-174109.451, Time=68.69 sec\n",
      " ARIMA(3,1,3)(0,0,1)[4]             : AIC=-178611.648, Time=84.36 sec\n",
      "New best model found (-178611.648 < -177647.550)\n",
      " ARIMA(3,1,3)(0,0,0)[4]             : AIC=-178678.647, Time=54.76 sec\n",
      "New best model found (-178678.647 < -178611.648)\n",
      " ARIMA(3,1,3)(1,0,0)[4]             : AIC=-178661.777, Time=91.98 sec\n",
      " ARIMA(3,1,3)(1,0,1)[4]             : AIC=-178533.383, Time=82.13 sec\n",
      " ARIMA(2,1,3)(0,0,0)[4]             : AIC=-178786.458, Time=53.50 sec\n",
      "New best model found (-178786.458 < -178678.647)\n",
      " ARIMA(2,1,3)(1,0,0)[4]             : AIC=-178167.062, Time=59.83 sec\n",
      " ARIMA(2,1,3)(0,0,1)[4]             : AIC=-176292.262, Time=83.70 sec\n",
      " ARIMA(2,1,3)(1,0,1)[4]             : AIC=-177255.663, Time=462.88 sec\n",
      " ARIMA(1,1,3)(0,0,0)[4]             : AIC=-170030.597, Time=157.85 sec\n"
     ]
    }
   ],
   "source": [
    "model = pm.arima.AutoARIMA(start_p = 24,\n",
    "                           d = None,\n",
    "                           start_q = 6,\n",
    "                           max_p = 48,\n",
    "                           max_q = 12,\n",
    "                           m=4,\n",
    "                           seasonal=True,\n",
    "                           trace=2)\n",
    "\n",
    "model.fit(y=train_data.north_load, X=train_data.tmp_f_KDFW.values.reshape(-1,1))"
   ]
  },
  {
   "cell_type": "code",
   "execution_count": null,
   "id": "303fc2aa-739b-4386-a8c3-4feb487e63da",
   "metadata": {},
   "outputs": [],
   "source": [
    "model.summary()"
   ]
  },
  {
   "cell_type": "code",
   "execution_count": null,
   "id": "44cdecd0-8dec-47ee-8a66-1ccdff10d96d",
   "metadata": {},
   "outputs": [],
   "source": [
    "fig, ax = plt.subplots(figsize=(15, 5))\n",
    "\n",
    "# Plot the data (here we are subsetting it to get a better look at the forecasts)\n",
    "train_data.loc['2017-01-01':].plot(ax=ax)\n",
    "target_trans = target_data.copy()\n",
    "target_trans[['tmp_f_KDFW', 'north_load']] = scaler.transform(target_data[['tmp_f_KDFW', 'north_load']])\n",
    "target_trans.plot(ax=ax)\n",
    "\n",
    "# Construct the forecasts\n",
    "fcast, conf_vals = model.predict(len(target_data), X=target_trans.tmp_f_KDFW.values.reshape(-1,1), return_conf_int = True)\n",
    "fcast = pd.Series(fcast, index=target_trans.index, name='north_load_pred')\n",
    "\n",
    "fcast.plot()\n",
    "\n",
    "lower_bounds = pd.Series(conf_vals[:, 0], index=list(fcast.index))\n",
    "upper_bounds = pd.Series(conf_vals[:, 1], index=list(fcast.index))\n",
    "ax.fill_between(fcast.index, lower_bounds, upper_bounds, color='k', alpha=0.1);"
   ]
  },
  {
   "cell_type": "code",
   "execution_count": null,
   "id": "d0ba3776-7d9a-4812-871e-7b1bc61d8693",
   "metadata": {},
   "outputs": [],
   "source": [
    "model.model_.plot_diagnostics(figsize=(15,10))"
   ]
  },
  {
   "cell_type": "markdown",
   "id": "93ce6e81-9d7d-4917-b5f3-5cc5dd2e8999",
   "metadata": {},
   "source": [
    "## Seasonal LONNNNNGGG TERM\n",
    "\n",
    "\n",
    "The following takes too long to run to be worthwhile --> too many parameters"
   ]
  },
  {
   "cell_type": "code",
   "execution_count": null,
   "id": "cb7ddaf5-b05b-4000-8cf3-10f82b1f7ea4",
   "metadata": {},
   "outputs": [
    {
     "name": "stdout",
     "output_type": "stream",
     "text": [
      "Performing stepwise search to minimize aic\n"
     ]
    }
   ],
   "source": [
    "# model = pm.arima.AutoARIMA(start_p = 24,\n",
    "#                            d = None,\n",
    "#                            start_q = 6,\n",
    "#                            max_p = 48,\n",
    "#                            max_q = 12,\n",
    "#                            m=8760,\n",
    "#                            seasonal=True,\n",
    "#                            trace=2)\n",
    "\n",
    "# model.fit(y=train_data.north_load, X=train_data.tmp_f_KDFW.values.reshape(-1,1))"
   ]
  },
  {
   "cell_type": "code",
   "execution_count": null,
   "id": "d7f38339-d86d-4af8-ab4e-9749ae80a096",
   "metadata": {},
   "outputs": [],
   "source": [
    "# model.summary()"
   ]
  },
  {
   "cell_type": "code",
   "execution_count": null,
   "id": "eae6f271-f4ed-45a1-8bd9-7f719af0ba30",
   "metadata": {},
   "outputs": [],
   "source": [
    "# fig, ax = plt.subplots(figsize=(15, 5))\n",
    "\n",
    "# # Plot the data (here we are subsetting it to get a better look at the forecasts)\n",
    "# train_data.loc['2017-01-01':].plot(ax=ax)\n",
    "# target_trans = target_data.copy()\n",
    "# target_trans[['tmp_f_KDFW', 'north_load']] = scaler.transform(target_data[['tmp_f_KDFW', 'north_load']])\n",
    "# target_trans.plot(ax=ax)\n",
    "\n",
    "# # Construct the forecasts\n",
    "# fcast, conf_vals = model.predict(len(target_data), X=target_trans.tmp_f_KDFW.values.reshape(-1,1), return_conf_int = True)\n",
    "# fcast = pd.Series(fcast, index=target_trans.index, name='north_load_pred')\n",
    "\n",
    "# fcast.plot()\n",
    "\n",
    "# lower_bounds = pd.Series(conf_vals[:, 0], index=list(fcast.index))\n",
    "# upper_bounds = pd.Series(conf_vals[:, 1], index=list(fcast.index))\n",
    "# ax.fill_between(fcast.index, lower_bounds, upper_bounds, color='k', alpha=0.1);"
   ]
  },
  {
   "cell_type": "code",
   "execution_count": null,
   "id": "f9a348d3-0ba8-4c4e-b58d-98f58b781c82",
   "metadata": {},
   "outputs": [],
   "source": [
    "# model.model_.plot_diagnostics(figsize=(15,10))"
   ]
  },
  {
   "cell_type": "code",
   "execution_count": null,
   "id": "4a5f71f2-9b1c-4f89-9413-f6b3e5977c36",
   "metadata": {},
   "outputs": [],
   "source": []
  }
 ],
 "metadata": {
  "kernelspec": {
   "display_name": "Python 3 (ipykernel)",
   "language": "python",
   "name": "python3"
  },
  "language_info": {
   "codemirror_mode": {
    "name": "ipython",
    "version": 3
   },
   "file_extension": ".py",
   "mimetype": "text/x-python",
   "name": "python",
   "nbconvert_exporter": "python",
   "pygments_lexer": "ipython3",
   "version": "3.9.12"
  }
 },
 "nbformat": 4,
 "nbformat_minor": 5
}
